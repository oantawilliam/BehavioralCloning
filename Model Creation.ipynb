{
 "cells": [
  {
   "cell_type": "markdown",
   "metadata": {},
   "source": [
    "## Prepare Data"
   ]
  },
  {
   "cell_type": "markdown",
   "metadata": {},
   "source": [
    "Import libraries:"
   ]
  },
  {
   "cell_type": "code",
   "execution_count": 1,
   "metadata": {
    "collapsed": true
   },
   "outputs": [],
   "source": [
    "import numpy as np\n",
    "import pickle\n",
    "import cv2\n",
    "import tensorflow as tf\n",
    "import random\n",
    "import csv\n",
    "import glob \n",
    "import os\n",
    "import matplotlib.pyplot as plt\n",
    "%matplotlib inline"
   ]
  },
  {
   "cell_type": "markdown",
   "metadata": {},
   "source": [
    "### Process Default Data"
   ]
  },
  {
   "cell_type": "markdown",
   "metadata": {},
   "source": [
    "Process default data file:"
   ]
  },
  {
   "cell_type": "code",
   "execution_count": 2,
   "metadata": {},
   "outputs": [],
   "source": [
    "default_csv = './default_data/driving_log.csv'\n",
    "path = './default_data/'\n",
    "\n",
    "car_images = []\n",
    "steering_angles = []\n",
    "\n",
    "# Get first track csv data\n",
    "with open(default_csv) as csv_file:\n",
    "    reader = csv.reader(csv_file)\n",
    "    \n",
    "    for row in reader:\n",
    "        \n",
    "        if row[3] == \"steering\":\n",
    "            continue\n",
    "            \n",
    "        steering_center = float(row[3])\n",
    "\n",
    "        # create adjusted steering measurements for the side camera images\n",
    "        correction = 0.2 # this is a parameter to tune\n",
    "        steering_left = steering_center + correction\n",
    "        steering_right = steering_center - correction\n",
    "\n",
    "        # read in images from center, left and right cameras\n",
    "        img_center = cv2.imread(path + row[0].strip())\n",
    "        img_left = cv2.imread(path + row[1].strip())\n",
    "        img_right = cv2.imread(path + row[2].strip())\n",
    "        \n",
    "        # add images and angles to data set\n",
    "        car_images.extend([img_center, img_left, img_right])\n",
    "        steering_angles.extend([steering_center, steering_left, steering_right])"
   ]
  },
  {
   "cell_type": "markdown",
   "metadata": {},
   "source": [
    "Save training data:"
   ]
  },
  {
   "cell_type": "code",
   "execution_count": 3,
   "metadata": {},
   "outputs": [],
   "source": [
    "# Build training data set\n",
    "X_train_d = np.array(car_images)\n",
    "y_train_d = np.array(steering_angles)"
   ]
  },
  {
   "cell_type": "code",
   "execution_count": null,
   "metadata": {
    "collapsed": true
   },
   "outputs": [],
   "source": [
    "default_train_data = {\"features\" : X_train_d,\"labels\" : y_train_d}\n",
    "pickle.dump(default_train_data, open( \"default_train.p\", \"wb\" ))"
   ]
  },
  {
   "cell_type": "code",
   "execution_count": 20,
   "metadata": {},
   "outputs": [
    {
     "ename": "TypeError",
     "evalue": "invalid file: <_io.TextIOWrapper name='./default_data/driving_log.csv' mode='r' encoding='ANSI_X3.4-1968'>",
     "output_type": "error",
     "traceback": [
      "\u001b[0;31m---------------------------------------------------------------------------\u001b[0m",
      "\u001b[0;31mTypeError\u001b[0m                                 Traceback (most recent call last)",
      "\u001b[0;32m<ipython-input-20-91fa2b8aebd9>\u001b[0m in \u001b[0;36m<module>\u001b[0;34m()\u001b[0m\n\u001b[0;32m----> 1\u001b[0;31m \u001b[0;32mwith\u001b[0m \u001b[0mopen\u001b[0m\u001b[0;34m(\u001b[0m\u001b[0mcsv_file\u001b[0m\u001b[0;34m,\u001b[0m \u001b[0;34m'r'\u001b[0m\u001b[0;34m)\u001b[0m \u001b[0;32mas\u001b[0m \u001b[0mf\u001b[0m\u001b[0;34m:\u001b[0m\u001b[0;34m\u001b[0m\u001b[0m\n\u001b[0m\u001b[1;32m      2\u001b[0m         \u001b[0mreader\u001b[0m \u001b[0;34m=\u001b[0m \u001b[0mcsv\u001b[0m\u001b[0;34m.\u001b[0m\u001b[0mreader\u001b[0m\u001b[0;34m(\u001b[0m\u001b[0mf\u001b[0m\u001b[0;34m)\u001b[0m\u001b[0;34m\u001b[0m\u001b[0m\n\u001b[1;32m      3\u001b[0m         \u001b[0;32mfor\u001b[0m \u001b[0mrow\u001b[0m \u001b[0;32min\u001b[0m \u001b[0mreader\u001b[0m\u001b[0;34m:\u001b[0m\u001b[0;34m\u001b[0m\u001b[0m\n\u001b[1;32m      4\u001b[0m             \u001b[0msteering_center\u001b[0m \u001b[0;34m=\u001b[0m \u001b[0mfloat\u001b[0m\u001b[0;34m(\u001b[0m\u001b[0mrow\u001b[0m\u001b[0;34m[\u001b[0m\u001b[0;36m3\u001b[0m\u001b[0;34m]\u001b[0m\u001b[0;34m)\u001b[0m\u001b[0;34m\u001b[0m\u001b[0m\n\u001b[1;32m      5\u001b[0m \u001b[0;34m\u001b[0m\u001b[0m\n",
      "\u001b[0;31mTypeError\u001b[0m: invalid file: <_io.TextIOWrapper name='./default_data/driving_log.csv' mode='r' encoding='ANSI_X3.4-1968'>"
     ]
    }
   ],
   "source": [
    "with open(csv_file, 'r') as f:\n",
    "        reader = csv.reader(f)\n",
    "        for row in reader:\n",
    "            steering_center = float(row[3])\n",
    "default_img = './default_data/IMG'\n",
    "            # create adjusted steering measurements for the side camera images\n",
    "            correction = 0.2 # this is a parameter to tune\n",
    "            steering_left = steering_center + correction\n",
    "            steering_right = steering_center - correction\n",
    "\n",
    "            # read in images from center, left and right cameras\n",
    "            path = \"...\" # fill in the path to your training IMG directory\n",
    "            img_center = process_image(np.asarray(Image.open(path + row[0])))\n",
    "            img_left = process_image(np.asarray(Image.open(path + row[1])))\n",
    "            img_right = process_image(np.asarray(Image.open(path + row[2])))\n",
    "\n",
    "            # add images and angles to data set\n",
    "            car_images.extend(img_center, img_left, img_right)\n",
    "            steering_angles.extend(steering_center, steering_left, steering_right)"
   ]
  },
  {
   "cell_type": "markdown",
   "metadata": {},
   "source": [
    "## Process Recorded Data"
   ]
  },
  {
   "cell_type": "markdown",
   "metadata": {},
   "source": [
    "Process CSV measurements file:"
   ]
  },
  {
   "cell_type": "code",
   "execution_count": 5,
   "metadata": {},
   "outputs": [
    {
     "name": "stdout",
     "output_type": "stream",
     "text": [
      "5315\n"
     ]
    }
   ],
   "source": [
    "# Tracks directories\n",
    "first_track = './data/first_track'\n",
    "second_track = './data/second_track'\n",
    "\n",
    "log_file = 'driving_log.csv'\n",
    "imgs_folder = 'IMG'\n",
    "log_csv = []\n",
    "\n",
    "# List used to skip some data\n",
    "valid_folders = ['center_lane_1', \n",
    "                 'curves_smoothly_1_f_1', \n",
    "                 'curves_smoothly_1_f_2', \n",
    "                 'recovery_1',\n",
    "                 'center_lane_2', \n",
    "                 'curves_smoothly_2_f', \n",
    "                 'recovery_2']\n",
    "\n",
    "# Get first track csv data\n",
    "for file in os.listdir(first_track):\n",
    "    if file in valid_folders:\n",
    "        # Build CSV path\n",
    "        csv_path = \"{}/{}/{}\".format(first_track, file, log_file)\n",
    "\n",
    "        # Load CSV data\n",
    "        with open(csv_path) as csv_file:\n",
    "            reader = csv.reader(csv_file)\n",
    "            for line in reader:\n",
    "                log_csv.append(line)\n",
    "\n",
    "# Get second track csv data\n",
    "for file in os.listdir(second_track):\n",
    "    if file in valid_folders:\n",
    "        \n",
    "        # Build CSV path\n",
    "        csv_path = \"{}/{}/{}\".format(second_track, file, log_file)\n",
    "\n",
    "        # Load CSV data\n",
    "        with open(csv_path) as csv_file:\n",
    "            reader = csv.reader(csv_file)\n",
    "            for line in reader:\n",
    "                log_csv.append(line)\n",
    "\n",
    "print(len(log_csv))"
   ]
  },
  {
   "cell_type": "code",
   "execution_count": 6,
   "metadata": {},
   "outputs": [
    {
     "name": "stdout",
     "output_type": "stream",
     "text": [
      "5315\n",
      "5315\n"
     ]
    }
   ],
   "source": [
    "images = []\n",
    "measurements = []\n",
    "\n",
    "for line in log_csv:\n",
    "    # Get image path\n",
    "    source_path = line[0]\n",
    "    # Get image name\n",
    "    file_name = source_path.split('/')[-1]\n",
    "    # Change image path \n",
    "    current_path = './data/IMG/' + file_name\n",
    "    # Store Image\n",
    "    image = cv2.imread(current_path)\n",
    "    images.append(image)\n",
    "    \n",
    "    # Store Steering Angle\n",
    "    measurement = float(line[3])\n",
    "    measurements.append(measurement)\n",
    "\n",
    "# Build training data set\n",
    "X_train = np.array(images)\n",
    "y_train = np.array(measurements)\n",
    "\n",
    "print(len(X_train))\n",
    "print(len(y_train))"
   ]
  },
  {
   "cell_type": "markdown",
   "metadata": {},
   "source": [
    "Store Training Data:"
   ]
  },
  {
   "cell_type": "code",
   "execution_count": 26,
   "metadata": {
    "collapsed": true
   },
   "outputs": [],
   "source": [
    "train_data = {\"features\" : X_train,\"labels\" : y_train}\n",
    "pickle.dump(train_data, open( \"train.p\", \"wb\" ))"
   ]
  },
  {
   "cell_type": "markdown",
   "metadata": {},
   "source": [
    "Loading Data:"
   ]
  },
  {
   "cell_type": "code",
   "execution_count": 2,
   "metadata": {
    "collapsed": true
   },
   "outputs": [],
   "source": [
    "with open(\"train.p\", \"rb\") as train_file:\n",
    "    train_data = pickle.load(train_file)\n",
    "    \n",
    "X_train, y_train = train_data[\"features\"], train_data[\"labels\"]"
   ]
  },
  {
   "cell_type": "markdown",
   "metadata": {},
   "source": [
    "## Building Models"
   ]
  },
  {
   "cell_type": "markdown",
   "metadata": {},
   "source": [
    "### Simplest Model Possible"
   ]
  },
  {
   "cell_type": "code",
   "execution_count": 32,
   "metadata": {},
   "outputs": [],
   "source": [
    "from keras.models import Sequential\n",
    "from keras.layers import Dense, Flatten, Lambda\n",
    "from keras.layers import Convolution2D, MaxPooling2D, Cropping2D, Dropout\n",
    "from keras.callbacks import ModelCheckpoint\n",
    "from keras.optimizers import Adamax, Adadelta, Adagrad, Adam, SGD, RMSprop"
   ]
  },
  {
   "cell_type": "markdown",
   "metadata": {},
   "source": [
    "Simplest Model Try Out:"
   ]
  },
  {
   "cell_type": "code",
   "execution_count": 30,
   "metadata": {},
   "outputs": [
    {
     "name": "stdout",
     "output_type": "stream",
     "text": [
      "Train on 17516 samples, validate on 4379 samples\n",
      "Epoch 1/10\n",
      "17516/17516 [==============================] - 20s - loss: 1633333.1567 - val_loss: 1195.7598\n",
      "Epoch 2/10\n",
      "17516/17516 [==============================] - 20s - loss: 2928.4181 - val_loss: 8850.5901\n",
      "Epoch 3/10\n",
      "17516/17516 [==============================] - 20s - loss: 154086.9365 - val_loss: 19758618.6120\n",
      "Epoch 4/10\n",
      "17516/17516 [==============================] - 20s - loss: 559733.1857 - val_loss: 4464.4862\n",
      "Epoch 5/10\n",
      "17516/17516 [==============================] - 20s - loss: 374218.4078 - val_loss: 25923.1692\n",
      "Epoch 6/10\n",
      "17516/17516 [==============================] - 20s - loss: 292226.3216 - val_loss: 54597.8005\n",
      "Epoch 7/10\n",
      "17516/17516 [==============================] - 20s - loss: 203483.8062 - val_loss: 45812.6437\n",
      "Epoch 8/10\n",
      "17516/17516 [==============================] - 20s - loss: 414011.9327 - val_loss: 5974.0142\n",
      "Epoch 9/10\n",
      "17516/17516 [==============================] - 20s - loss: 355963.7128 - val_loss: 73384.6647\n",
      "Epoch 10/10\n",
      "17516/17516 [==============================] - 20s - loss: 259130.7647 - val_loss: 392413.5940\n"
     ]
    }
   ],
   "source": [
    "m1 = Sequential()\n",
    "m1.add(Flatten(input_shape=(160, 320, 3)))\n",
    "m1.add(Dense(1))\n",
    "\n",
    "m1.compile(loss='mse', optimizer='adam')\n",
    "m1.fit(X_train, y_train, validation_split=0.2, shuffle=True)\n",
    "\n",
    "m1.save('m1.h5')"
   ]
  },
  {
   "cell_type": "markdown",
   "metadata": {},
   "source": [
    "### Normalization"
   ]
  },
  {
   "cell_type": "markdown",
   "metadata": {},
   "source": [
    "Normalize Images in Range: 0 - 1"
   ]
  },
  {
   "cell_type": "code",
   "execution_count": 28,
   "metadata": {},
   "outputs": [
    {
     "name": "stdout",
     "output_type": "stream",
     "text": [
      "Train on 17516 samples, validate on 4379 samples\n",
      "Epoch 1/10\n",
      "17516/17516 [==============================] - 20s - loss: 25.9219 - val_loss: 0.1310\n",
      "Epoch 2/10\n",
      "17516/17516 [==============================] - 20s - loss: 0.1302 - val_loss: 0.1292\n",
      "Epoch 3/10\n",
      "17516/17516 [==============================] - 21s - loss: 3.3529 - val_loss: 0.4656\n",
      "Epoch 4/10\n",
      "17516/17516 [==============================] - 20s - loss: 4.8874 - val_loss: 0.1863\n",
      "Epoch 5/10\n",
      "17516/17516 [==============================] - 21s - loss: 7.0445 - val_loss: 0.2356\n",
      "Epoch 6/10\n",
      "17516/17516 [==============================] - 21s - loss: 3.0626 - val_loss: 2.8542\n",
      "Epoch 7/10\n",
      "17516/17516 [==============================] - 20s - loss: 5.9324 - val_loss: 7.9464\n",
      "Epoch 8/10\n",
      "17516/17516 [==============================] - 20s - loss: 5.2262 - val_loss: 0.7999\n",
      "Epoch 9/10\n",
      "17516/17516 [==============================] - 20s - loss: 5.8150 - val_loss: 0.2200\n",
      "Epoch 10/10\n",
      "17516/17516 [==============================] - 20s - loss: 3.7678 - val_loss: 4.7489\n"
     ]
    }
   ],
   "source": [
    "m2 = Sequential()\n",
    "m2.add(Lambda(lambda x: x / 255.0, input_shape=(160, 320, 3)))\n",
    "m2.add(Flatten())\n",
    "m2.add(Dense(1))\n",
    "\n",
    "m2.compile(loss='mse', optimizer='adam')\n",
    "m2.fit(X_train, y_train, validation_split=0.2, shuffle=True)\n",
    "\n",
    "m2.save('m2.h5')"
   ]
  },
  {
   "cell_type": "markdown",
   "metadata": {},
   "source": [
    "Mean Center Images:"
   ]
  },
  {
   "cell_type": "code",
   "execution_count": 31,
   "metadata": {},
   "outputs": [
    {
     "name": "stdout",
     "output_type": "stream",
     "text": [
      "Train on 17516 samples, validate on 4379 samples\n",
      "Epoch 1/10\n",
      "17516/17516 [==============================] - 21s - loss: 4.4784 - val_loss: 16.1374\n",
      "Epoch 2/10\n",
      "17516/17516 [==============================] - 21s - loss: 1.9974 - val_loss: 8.7859\n",
      "Epoch 3/10\n",
      "17516/17516 [==============================] - 21s - loss: 3.7621 - val_loss: 1.8375\n",
      "Epoch 4/10\n",
      "17516/17516 [==============================] - 21s - loss: 4.2360 - val_loss: 0.4352\n",
      "Epoch 5/10\n",
      "17516/17516 [==============================] - 21s - loss: 2.3698 - val_loss: 5.8420\n",
      "Epoch 6/10\n",
      "17516/17516 [==============================] - 21s - loss: 5.0843 - val_loss: 1.3734\n",
      "Epoch 7/10\n",
      "17516/17516 [==============================] - 21s - loss: 1.8498 - val_loss: 7.1161\n",
      "Epoch 8/10\n",
      "17516/17516 [==============================] - 21s - loss: 3.4522 - val_loss: 4.0788s: 3.454\n",
      "Epoch 9/10\n",
      "17516/17516 [==============================] - 21s - loss: 3.1270 - val_loss: 2.9286\n",
      "Epoch 10/10\n",
      "17516/17516 [==============================] - 21s - loss: 1.5077 - val_loss: 0.7649\n"
     ]
    }
   ],
   "source": [
    "m3 = Sequential()\n",
    "m3.add(Lambda(lambda x: x / 255.0 - 0.5, input_shape=(160, 320, 3)))\n",
    "m3.add(Flatten())\n",
    "m3.add(Dense(1))\n",
    "\n",
    "m3.compile(loss='mse', optimizer='adam')\n",
    "m3.fit(X_train, y_train, validation_split=0.2, shuffle=True)\n",
    "\n",
    "m3.save('m3.h5')"
   ]
  },
  {
   "cell_type": "markdown",
   "metadata": {},
   "source": [
    "### LeNet Model"
   ]
  },
  {
   "cell_type": "markdown",
   "metadata": {},
   "source": [
    "![](https://cdnpythonmachinelearning.azureedge.net/wp-content/uploads/2017/09/lenet-5.png?x64257)\n",
    "![](http://gpucomputing.shef.ac.uk/static/img/intro_dl_sharc_dgx1/mnist_lenet.jpg)"
   ]
  },
  {
   "cell_type": "code",
   "execution_count": 33,
   "metadata": {},
   "outputs": [
    {
     "name": "stdout",
     "output_type": "stream",
     "text": [
      "Train on 17516 samples, validate on 4379 samples\n",
      "Epoch 1/10\n",
      "17516/17516 [==============================] - 66s - loss: 0.3390 - val_loss: 0.1133\n",
      "Epoch 2/10\n",
      "17516/17516 [==============================] - 65s - loss: 0.0586 - val_loss: 0.0957\n",
      "Epoch 3/10\n",
      "17516/17516 [==============================] - 65s - loss: 0.0502 - val_loss: 0.0912\n",
      "Epoch 4/10\n",
      "17516/17516 [==============================] - 65s - loss: 0.0442 - val_loss: 0.0899\n",
      "Epoch 5/10\n",
      "17516/17516 [==============================] - 65s - loss: 0.0402 - val_loss: 0.1125\n",
      "Epoch 6/10\n",
      "17516/17516 [==============================] - 65s - loss: 0.0353 - val_loss: 0.0995\n",
      "Epoch 7/10\n",
      "17516/17516 [==============================] - 65s - loss: 0.0329 - val_loss: 0.0930\n",
      "Epoch 8/10\n",
      "17516/17516 [==============================] - 65s - loss: 0.0302 - val_loss: 0.1046\n",
      "Epoch 9/10\n",
      "17516/17516 [==============================] - 65s - loss: 0.0279 - val_loss: 0.0930\n",
      "Epoch 10/10\n",
      "17516/17516 [==============================] - 65s - loss: 0.0252 - val_loss: 0.0964\n"
     ]
    }
   ],
   "source": [
    "lenet = Sequential()\n",
    "lenet.add(Lambda(lambda x: x / 255.0 - 0.5, input_shape=(160, 320, 3)))\n",
    "lenet.add(Convolution2D(6, 5, 5, activation='relu'))\n",
    "lenet.add(MaxPooling2D())\n",
    "lenet.add(Convolution2D(6, 5, 5, activation='relu'))\n",
    "lenet.add(MaxPooling2D())\n",
    "lenet.add(Flatten())\n",
    "lenet.add(Dense(120))\n",
    "lenet.add(Dense(84))\n",
    "lenet.add(Dense(1))\n",
    "\n",
    "\n",
    "lenet.compile(loss='mse', optimizer='adam')\n",
    "lenet.fit(X_train, y_train, validation_split=0.2, shuffle=True)\n",
    "\n",
    "lenet.save('lenet.h5')"
   ]
  },
  {
   "cell_type": "markdown",
   "metadata": {},
   "source": [
    "## Image Augmentation"
   ]
  },
  {
   "cell_type": "markdown",
   "metadata": {},
   "source": [
    "Flipping Images Vertically"
   ]
  },
  {
   "cell_type": "code",
   "execution_count": 4,
   "metadata": {},
   "outputs": [],
   "source": [
    "X_aug, y_aug = [], []\n",
    "\n",
    "for X, y in zip(X_train_d, y_train_d):\n",
    "    X_aug.append(X)\n",
    "    y_aug.append(y)\n",
    "    X_aug.append(cv2.flip(X, 1))\n",
    "    y_aug.append(y * -1.0)"
   ]
  },
  {
   "cell_type": "code",
   "execution_count": 6,
   "metadata": {},
   "outputs": [
    {
     "ename": "MemoryError",
     "evalue": "",
     "output_type": "error",
     "traceback": [
      "\u001b[0;31m---------------------------------------------------------------------------\u001b[0m",
      "\u001b[0;31mMemoryError\u001b[0m                               Traceback (most recent call last)",
      "\u001b[0;32m<ipython-input-6-40a5749a3c73>\u001b[0m in \u001b[0;36m<module>\u001b[0;34m()\u001b[0m\n\u001b[0;32m----> 1\u001b[0;31m \u001b[0mX_aug\u001b[0m\u001b[0;34m,\u001b[0m \u001b[0my_aug\u001b[0m \u001b[0;34m=\u001b[0m \u001b[0mnp\u001b[0m\u001b[0;34m.\u001b[0m\u001b[0marray\u001b[0m\u001b[0;34m(\u001b[0m\u001b[0mX_aug\u001b[0m\u001b[0;34m)\u001b[0m\u001b[0;34m,\u001b[0m \u001b[0mnp\u001b[0m\u001b[0;34m.\u001b[0m\u001b[0marray\u001b[0m\u001b[0;34m(\u001b[0m\u001b[0my_aug\u001b[0m\u001b[0;34m)\u001b[0m\u001b[0;34m\u001b[0m\u001b[0m\n\u001b[0m",
      "\u001b[0;31mMemoryError\u001b[0m: "
     ]
    }
   ],
   "source": [
    "X_aug, y_aug = np.array(X_aug), np.array(y_aug)"
   ]
  },
  {
   "cell_type": "markdown",
   "metadata": {},
   "source": [
    "Store Augmented Data"
   ]
  },
  {
   "cell_type": "code",
   "execution_count": 9,
   "metadata": {},
   "outputs": [
    {
     "name": "stdout",
     "output_type": "stream",
     "text": [
      "(43790, 160, 320, 3)\n"
     ]
    }
   ],
   "source": [
    "aug_data = {\"features\" : X_aug,\"labels\" : y_aug}\n",
    "pickle.dump(aug_data, open( \"train_aug.p\", \"wb\" ))"
   ]
  },
  {
   "cell_type": "code",
   "execution_count": 14,
   "metadata": {},
   "outputs": [
    {
     "name": "stdout",
     "output_type": "stream",
     "text": [
      "Train on 19286 samples, validate on 4822 samples\n",
      "Epoch 1/10\n",
      "19286/19286 [==============================] - 49s - loss: 0.0682 - val_loss: 0.0214\n",
      "Epoch 2/10\n",
      "19286/19286 [==============================] - 46s - loss: 0.0142 - val_loss: 0.0208\n",
      "Epoch 3/10\n",
      "19286/19286 [==============================] - 46s - loss: 0.0119 - val_loss: 0.0187\n",
      "Epoch 4/10\n",
      "19286/19286 [==============================] - 46s - loss: 0.0106 - val_loss: 0.0180\n",
      "Epoch 5/10\n",
      "19286/19286 [==============================] - 46s - loss: 0.0098 - val_loss: 0.0195\n",
      "Epoch 6/10\n",
      "19286/19286 [==============================] - 46s - loss: 0.0090 - val_loss: 0.0175\n",
      "Epoch 7/10\n",
      "19286/19286 [==============================] - 46s - loss: 0.0086 - val_loss: 0.0184\n",
      "Epoch 8/10\n",
      "19286/19286 [==============================] - 47s - loss: 0.0083 - val_loss: 0.0184\n",
      "Epoch 9/10\n",
      "19286/19286 [==============================] - 46s - loss: 0.0081 - val_loss: 0.0190\n",
      "Epoch 10/10\n",
      "19286/19286 [==============================] - 46s - loss: 0.0077 - val_loss: 0.0187\n"
     ]
    }
   ],
   "source": [
    "lenet_aug = Sequential()\n",
    "lenet_aug.add(Cropping2D(cropping=((50,20), (0,0)), input_shape=(160,320,3)))\n",
    "lenet_aug.add(Lambda(lambda x: x / 255.0 - 0.5))\n",
    "lenet_aug.add(Convolution2D(6, 5, 5, activation='relu'))\n",
    "lenet_aug.add(MaxPooling2D())\n",
    "lenet_aug.add(Convolution2D(6, 5, 5, activation='relu'))\n",
    "lenet_aug.add(MaxPooling2D())\n",
    "lenet_aug.add(Flatten())\n",
    "lenet_aug.add(Dense(120))\n",
    "lenet_aug.add(Dense(84))\n",
    "lenet_aug.add(Dense(1))\n",
    "\n",
    "lenet_aug.compile(loss='mse', optimizer='adam')\n",
    "lenet_aug.fit(X_train_d, y_train_d, validation_split=0.2, shuffle=True)\n",
    "\n",
    "lenet_aug.save('lenet_default_train.h5')"
   ]
  },
  {
   "cell_type": "markdown",
   "metadata": {},
   "source": [
    "## Nvidia End to End Model\n",
    "\n",
    "<img src=\"https://devblogs.nvidia.com/parallelforall/wp-content/uploads/2016/08/cnn-architecture.png\" alt=\"Nvidia Network\" style=\"width: 500px;\"/>"
   ]
  },
  {
   "cell_type": "code",
   "execution_count": 33,
   "metadata": {},
   "outputs": [
    {
     "name": "stdout",
     "output_type": "stream",
     "text": [
      "Train on 19286 samples, validate on 4822 samples\n",
      "Epoch 1/5\n",
      "19200/19286 [============================>.] - ETA: 0s - loss: 0.0447 - acc: 0.1804Epoch 00000: val_loss improved from -inf to 0.04424, saving model to nividia-improvement-00-0.18.hdf5\n",
      "19286/19286 [==============================] - 69s - loss: 0.0447 - acc: 0.1799 - val_loss: 0.0442 - val_acc: 0.1837\n",
      "Epoch 2/5\n",
      "19200/19286 [============================>.] - ETA: 0s - loss: 0.0356 - acc: 0.1795Epoch 00001: val_loss did not improve\n",
      "19286/19286 [==============================] - 41s - loss: 0.0356 - acc: 0.1798 - val_loss: 0.0317 - val_acc: 0.1837\n",
      "Epoch 3/5\n",
      "19200/19286 [============================>.] - ETA: 0s - loss: 0.0284 - acc: 0.1798Epoch 00002: val_loss did not improve\n",
      "19286/19286 [==============================] - 41s - loss: 0.0284 - acc: 0.1800 - val_loss: 0.0310 - val_acc: 0.1837\n",
      "Epoch 4/5\n",
      "19200/19286 [============================>.] - ETA: 0s - loss: 0.0243 - acc: 0.1799Epoch 00003: val_loss did not improve\n",
      "19286/19286 [==============================] - 41s - loss: 0.0243 - acc: 0.1799 - val_loss: 0.0237 - val_acc: 0.1837\n",
      "Epoch 5/5\n",
      "19200/19286 [============================>.] - ETA: 0s - loss: 0.0226 - acc: 0.1801Epoch 00004: val_loss did not improve\n",
      "19286/19286 [==============================] - 41s - loss: 0.0226 - acc: 0.1801 - val_loss: 0.0213 - val_acc: 0.1837\n"
     ]
    }
   ],
   "source": [
    "nvidia = Sequential()\n",
    "nvidia.add(Lambda(lambda x: x / 255.0 - 0.5, input_shape=(160,320,3)))\n",
    "nvidia.add(Cropping2D(cropping=((70,25), (0,0))))\n",
    "nvidia.add(Convolution2D(24, 5, 5, subsample=(2, 2), activation='relu'))\n",
    "nvidia.add(Dropout(0.5))\n",
    "nvidia.add(Convolution2D(36, 5, 5, subsample=(2, 2), activation='relu'))\n",
    "nvidia.add(Dropout(0.5))\n",
    "nvidia.add(Convolution2D(48, 5, 5, subsample=(2, 2), activation='relu'))\n",
    "nvidia.add(Dropout(0.5))\n",
    "nvidia.add(Convolution2D(64, 3, 3, activation='relu'))\n",
    "nvidia.add(Dropout(0.5))\n",
    "nvidia.add(Convolution2D(64, 3, 3, activation='relu'))\n",
    "nvidia.add(Dropout(0.5))\n",
    "nvidia.add(Flatten())\n",
    "nvidia.add(Dense(100))\n",
    "nvidia.add(Dropout(0.5))\n",
    "nvidia.add(Dense(50))\n",
    "nvidia.add(Dropout(0.5))\n",
    "nvidia.add(Dense(10))\n",
    "nvidia.add(Dense(1))\n",
    "\n",
    "# Adamax, Adadelta, Adagrad, Adam, SGD, RMSprop\n",
    "opt = Adam(lr=0.005, beta_1=0.9, beta_2=0.999)\n",
    "\n",
    "nvidia.compile(loss='mse', optimizer=opt,  metrics=['accuracy'])\n",
    "\n",
    "filepath=\"nividia-improvement-{epoch:02d}-{val_acc:.2f}.hdf5\"\n",
    "checkpoint = ModelCheckpoint(filepath, monitor='val_loss', verbose=1, save_best_only=True, mode='max')\n",
    "callbacks_list = [checkpoint]\n",
    "\n",
    "history = nvidia.fit(X_train_d, y_train_d, validation_split=0.2, batch_size=128, nb_epoch=5, callbacks=callbacks_list, shuffle=True)\n",
    "\n",
    "nvidia.save('nvidia_model.h5')"
   ]
  },
  {
   "cell_type": "code",
   "execution_count": 28,
   "metadata": {},
   "outputs": [
    {
     "data": {
      "image/png": "[encoded data removed]",
      "text/plain": [
       "<matplotlib.figure.Figure at 0x7f70a806b208>"
      ]
     },
     "metadata": {},
     "output_type": "display_data"
    }
   ],
   "source": [
    "### plot the training and validation loss for each epoch\n",
    "plt.plot(history.history['loss'])\n",
    "plt.plot(history.history['val_loss'])\n",
    "plt.title('Model MSE Loss')\n",
    "plt.ylabel('MSE Loss')\n",
    "plt.xlabel('Epoch')\n",
    "plt.legend(['Training Set', 'Validation Set'], loc='upper right')\n",
    "plt.show()"
   ]
  },
  {
   "cell_type": "code",
   "execution_count": 54,
   "metadata": {},
   "outputs": [],
   "source": [
    "import os\n",
    "import csv\n",
    "from sklearn.model_selection import train_test_split\n",
    "from sklearn.utils import shuffle\n",
    "\n",
    "samples = []\n",
    "with open('./default_data/driving_log.csv') as csvfile:\n",
    "    reader = csv.reader(csvfile)\n",
    "    for line in reader:\n",
    "        samples.append(line)\n",
    "\n",
    "train_samples, validation_samples = train_test_split(samples, test_size=0.2)\n",
    "\n",
    "import cv2\n",
    "import numpy as np\n",
    "import sklearn\n",
    "\n",
    "def generator(samples, batch_size=32):\n",
    "    num_samples = len(samples)\n",
    "    while 1: # Loop forever so the generator never terminates\n",
    "        shuffle(samples)\n",
    "        for offset in range(0, num_samples, batch_size):\n",
    "            batch_samples = samples[offset:offset+batch_size]\n",
    "\n",
    "            images = []\n",
    "            angles = []\n",
    "            \n",
    "            for batch_sample in batch_samples:\n",
    "                \n",
    "                center_name = './default_data/IMG/' + batch_sample[0].split('/')[-1].strip()\n",
    "                left_name = './default_data/IMG/' + batch_sample[1].split('/')[-1].strip()\n",
    "                right_name = './default_data/IMG/'+ batch_sample[1].split('/')[-1].strip()\n",
    "                \n",
    "                # read in images from left and right cameras\n",
    "                center_image = cv2.imread(center_name)\n",
    "                left_image = cv2.imread(left_name)\n",
    "                right_image = cv2.imread(right_name)\n",
    "                \n",
    "                center_angle = float(batch_sample[3])\n",
    "                \n",
    "                # create adjusted steering measurements for the side camera images\n",
    "                correction = 0.2 # this is a parameter to tune\n",
    "                left_angle = center_angle + correction\n",
    "                right_angle = center_angle - correction\n",
    "                \n",
    "                images.append(center_image)\n",
    "                angles.append(center_angle)\n",
    "                images.append(left_image)\n",
    "                angles.append(left_angle)\n",
    "                images.append(right_image)\n",
    "                angles.append(right_angle)\n",
    "                \n",
    "            # trim image to only see section with road\n",
    "            X_train = np.array(images)\n",
    "            y_train = np.array(angles)\n",
    "            \n",
    "            yield shuffle(X_train, y_train)"
   ]
  },
  {
   "cell_type": "code",
   "execution_count": null,
   "metadata": {},
   "outputs": [
    {
     "name": "stdout",
     "output_type": "stream",
     "text": [
      "Epoch 1/3\n",
      "14016/19284 [====================>.........] - ETA: 10s - loss: 0.0411 - acc: 0.1807"
     ]
    }
   ],
   "source": [
    "# compile and train the model using the generator function\n",
    "train_generator = generator(train_samples, batch_size=32)\n",
    "validation_generator = generator(validation_samples, batch_size=32)\n",
    "\n",
    "ngen = Sequential()\n",
    "ngen.add(Lambda(lambda x: x / 255.0 - 0.5, input_shape=(160,320,3)))\n",
    "ngen.add(Cropping2D(cropping=((70,25), (0,0))))\n",
    "ngen.add(Convolution2D(24, 5, 5, subsample=(2, 2), activation='relu'))\n",
    "ngen.add(Convolution2D(36, 5, 5, subsample=(2, 2), activation='relu'))\n",
    "ngen.add(Convolution2D(48, 5, 5, subsample=(2, 2), activation='relu'))\n",
    "ngen.add(Convolution2D(64, 3, 3, activation='relu'))\n",
    "ngen.add(Convolution2D(64, 3, 3, activation='relu'))\n",
    "ngen.add(Flatten())\n",
    "ngen.add(Dense(100))\n",
    "ngen.add(Dense(50))\n",
    "ngen.add(Dense(10))\n",
    "ngen.add(Dense(1))\n",
    "\n",
    "ngen.compile(loss='mse', optimizer='adam',  metrics=['accuracy'])\n",
    "\n",
    "filepath=\"ngen-improvement-{epoch:02d}-{val_acc:.2f}.hdf5\"\n",
    "checkpoint = ModelCheckpoint(filepath, monitor='val_loss', verbose=1, save_best_only=True, mode='max')\n",
    "callbacks_list = [checkpoint]\n",
    "\n",
    "nvidia.fit_generator(train_generator, \n",
    "                     samples_per_epoch=len(train_samples) * 3, \n",
    "                     validation_data=validation_generator, \n",
    "                     nb_val_samples=len(validation_samples) * 3, \n",
    "                     nb_epoch=3)\n",
    "\n",
    "nvidia.save('ngen_model.h5')"
   ]
  },
  {
   "cell_type": "code",
   "execution_count": null,
   "metadata": {
    "collapsed": true
   },
   "outputs": [],
   "source": []
  }
 ],
 "metadata": {
  "anaconda-cloud": {},
  "kernelspec": {
   "display_name": "Python 3",
   "language": "python",
   "name": "python3"
  },
  "language_info": {
   "codemirror_mode": {
    "name": "ipython",
    "version": 3
   },
   "file_extension": ".py",
   "mimetype": "text/x-python",
   "name": "python",
   "nbconvert_exporter": "python",
   "pygments_lexer": "ipython3",
   "version": "3.5.2"
  },
  "widgets": {
   "state": {},
   "version": "1.1.2"
  }
 },
 "nbformat": 4,
 "nbformat_minor": 1
}
